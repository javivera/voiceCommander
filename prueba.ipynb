{
 "cells": [
  {
   "cell_type": "code",
   "execution_count": 21,
   "metadata": {},
   "outputs": [],
   "source": [
    "import speech_recognition as sr\n",
    "import pyttsx3\n",
    "import subprocess\n",
    "from playsound import playsound\n"
   ]
  },
  {
   "cell_type": "code",
   "execution_count": 27,
   "metadata": {},
   "outputs": [
    {
     "name": "stdout",
     "output_type": "stream",
     "text": [
      "Adjusting\n",
      "Speak\n",
      "siguiente\n",
      "Adjusting\n",
      "Speak\n",
      "detener\n"
     ]
    }
   ],
   "source": [
    "r = sr.Recognizer()\n",
    "\n",
    "while True:    \n",
    "    with sr.Microphone() as mic:\n",
    "        print('Adjusting')\n",
    "        r.adjust_for_ambient_noise(mic , duration=1)\n",
    "        print(\"Speak\")\n",
    "        audio = r.listen(mic)\n",
    "        \n",
    "\n",
    "        text = r.recognize_google(audio,language='es-ES')\n",
    "        \n",
    "        if text == 'siri':\n",
    "             playsound('siri.mp3')\n",
    "        elif text == 'siguiente':\n",
    "            print(text)\n",
    "            results = sp.next_track()\n",
    "        elif text == 'anterior':\n",
    "            print(text)\n",
    "            results = sp.previous_track()\n",
    "        elif text == 'dormir':\n",
    "            bashCommand = \"systemctl suspend\"\n",
    "            process = subprocess.Popen(bashCommand.split(), stdout=subprocess.PIPE)\n",
    "            output, error = process.communicate()\n",
    "                \n",
    "        elif text == 'detener':\n",
    "            print(text)\n",
    "            break\n",
    "\n",
    "        # elif text == 'spotify':\n",
    "        #     bashCommand = \"spotify\"\n",
    "        #     process = subprocess.Popen(bashCommand.split(), stdout=subprocess.PIPE)\n",
    "        #     output, error = process.communicate()\n",
    "\n",
    "    \n",
    "\n"
   ]
  },
  {
   "cell_type": "code",
   "execution_count": 4,
   "metadata": {},
   "outputs": [
    {
     "name": "stderr",
     "output_type": "stream",
     "text": [
      "spotify: /usr/lib/libcurl-gnutls.so.4: no version information available (required by spotify)\n",
      "/opt/spotify/spotify: /usr/lib/libcurl-gnutls.so.4: no version information available (required by /opt/spotify/spotify)\n",
      "/opt/spotify/spotify: /usr/lib/libcurl-gnutls.so.4: no version information available (required by /opt/spotify/spotify)\n",
      "[libprotobuf ERROR ../core/vendor/protobuf3/src/google/protobuf/wire_format_lite.cc:577] String field 'spotify.event_sender.proto.DroppedEvents.DroppedEventsBySequenceIdEntry.key' contains invalid UTF-8 data when parsing a protocol buffer. Use the 'bytes' type if you intend to send raw bytes. \n",
      "/proc/self/exe: /usr/lib/libcurl-gnutls.so.4: no version information available (required by /proc/self/exe)\n"
     ]
    }
   ],
   "source": [
    "bashCommand = \"spotify\"\n",
    "process = subprocess.Popen(bashCommand.split(), stdout=subprocess.PIPE)\n",
    "output, error = process.communicate()"
   ]
  },
  {
   "cell_type": "code",
   "execution_count": 50,
   "metadata": {},
   "outputs": [],
   "source": [
    "import spotipy\n",
    "from spotipy.oauth2 import SpotifyOAuth\n",
    "\n",
    "SPOTIPY_CLIENT_ID = 'a4b07eb47c014c779cffb2a439d97d58'\n",
    "SPOTIPY_CLIENT_SECRET = '267c74b970ca4495852464769bfd5a00'\n",
    "\n",
    "scope = \"user-modify-playback-state\"\n",
    "\n",
    "sp_modify = spotipy.Spotify(auth_manager=SpotifyOAuth(SPOTIPY_CLIENT_ID,SPOTIPY_CLIENT_SECRET,'http://localhost:8888/callback',scope=scope))\n",
    "\n",
    "\n",
    "# for idx, item in enumerate(results['items']):\n",
    "#     track = item['track']\n",
    "#     print(idx, track['artists'][0]['name'], \" – \", track['name'])"
   ]
  },
  {
   "cell_type": "code",
   "execution_count": 52,
   "metadata": {},
   "outputs": [],
   "source": [
    "sp_modify.pause_playback()"
   ]
  },
  {
   "cell_type": "code",
   "execution_count": 54,
   "metadata": {},
   "outputs": [],
   "source": [
    "sp_modify.start_playback(context_uri='spotify:album:5ht7ItJgpBH7W6vJ5BqpPr')"
   ]
  },
  {
   "cell_type": "code",
   "execution_count": 34,
   "metadata": {},
   "outputs": [
    {
     "ename": "OSError",
     "evalue": "[Errno 98] Address already in use",
     "output_type": "error",
     "traceback": [
      "\u001b[0;31m---------------------------------------------------------------------------\u001b[0m",
      "\u001b[0;31mOSError\u001b[0m                                   Traceback (most recent call last)",
      "\u001b[1;32m/home/jvera/gitRepos/speechRecognition/prueba.ipynb Cell 5'\u001b[0m in \u001b[0;36m<cell line: 5>\u001b[0;34m()\u001b[0m\n\u001b[1;32m      <a href='vscode-notebook-cell:/home/jvera/gitRepos/speechRecognition/prueba.ipynb#ch0000004?line=0'>1</a>\u001b[0m scope \u001b[39m=\u001b[39m \u001b[39m\"\u001b[39m\u001b[39muser-read-playback-state\u001b[39m\u001b[39m\"\u001b[39m\n\u001b[1;32m      <a href='vscode-notebook-cell:/home/jvera/gitRepos/speechRecognition/prueba.ipynb#ch0000004?line=2'>3</a>\u001b[0m sp_read \u001b[39m=\u001b[39m spotipy\u001b[39m.\u001b[39mSpotify(auth_manager\u001b[39m=\u001b[39mSpotifyOAuth(SPOTIPY_CLIENT_ID,SPOTIPY_CLIENT_SECRET,\u001b[39m'\u001b[39m\u001b[39mhttp://localhost:8888/callback\u001b[39m\u001b[39m'\u001b[39m,scope\u001b[39m=\u001b[39mscope))\n\u001b[0;32m----> <a href='vscode-notebook-cell:/home/jvera/gitRepos/speechRecognition/prueba.ipynb#ch0000004?line=4'>5</a>\u001b[0m results \u001b[39m=\u001b[39m sp_read\u001b[39m.\u001b[39;49mcurrent_playback()\n",
      "File \u001b[0;32m~/.miniconda3/envs/speechRecog/lib/python3.9/site-packages/spotipy/client.py:1703\u001b[0m, in \u001b[0;36mSpotify.current_playback\u001b[0;34m(self, market, additional_types)\u001b[0m\n\u001b[1;32m   <a href='file:///home/jvera/.miniconda3/envs/speechRecog/lib/python3.9/site-packages/spotipy/client.py?line=1695'>1696</a>\u001b[0m \u001b[39mdef\u001b[39;00m \u001b[39mcurrent_playback\u001b[39m(\u001b[39mself\u001b[39m, market\u001b[39m=\u001b[39m\u001b[39mNone\u001b[39;00m, additional_types\u001b[39m=\u001b[39m\u001b[39mNone\u001b[39;00m):\n\u001b[1;32m   <a href='file:///home/jvera/.miniconda3/envs/speechRecog/lib/python3.9/site-packages/spotipy/client.py?line=1696'>1697</a>\u001b[0m     \u001b[39m\"\"\" Get information about user's current playback.\u001b[39;00m\n\u001b[1;32m   <a href='file:///home/jvera/.miniconda3/envs/speechRecog/lib/python3.9/site-packages/spotipy/client.py?line=1697'>1698</a>\u001b[0m \n\u001b[1;32m   <a href='file:///home/jvera/.miniconda3/envs/speechRecog/lib/python3.9/site-packages/spotipy/client.py?line=1698'>1699</a>\u001b[0m \u001b[39m        Parameters:\u001b[39;00m\n\u001b[1;32m   <a href='file:///home/jvera/.miniconda3/envs/speechRecog/lib/python3.9/site-packages/spotipy/client.py?line=1699'>1700</a>\u001b[0m \u001b[39m            - market - an ISO 3166-1 alpha-2 country code.\u001b[39;00m\n\u001b[1;32m   <a href='file:///home/jvera/.miniconda3/envs/speechRecog/lib/python3.9/site-packages/spotipy/client.py?line=1700'>1701</a>\u001b[0m \u001b[39m            - additional_types - `episode` to get podcast track information\u001b[39;00m\n\u001b[1;32m   <a href='file:///home/jvera/.miniconda3/envs/speechRecog/lib/python3.9/site-packages/spotipy/client.py?line=1701'>1702</a>\u001b[0m \u001b[39m    \"\"\"\u001b[39;00m\n\u001b[0;32m-> <a href='file:///home/jvera/.miniconda3/envs/speechRecog/lib/python3.9/site-packages/spotipy/client.py?line=1702'>1703</a>\u001b[0m     \u001b[39mreturn\u001b[39;00m \u001b[39mself\u001b[39;49m\u001b[39m.\u001b[39;49m_get(\u001b[39m\"\u001b[39;49m\u001b[39mme/player\u001b[39;49m\u001b[39m\"\u001b[39;49m, market\u001b[39m=\u001b[39;49mmarket, additional_types\u001b[39m=\u001b[39;49madditional_types)\n",
      "File \u001b[0;32m~/.miniconda3/envs/speechRecog/lib/python3.9/site-packages/spotipy/client.py:297\u001b[0m, in \u001b[0;36mSpotify._get\u001b[0;34m(self, url, args, payload, **kwargs)\u001b[0m\n\u001b[1;32m    <a href='file:///home/jvera/.miniconda3/envs/speechRecog/lib/python3.9/site-packages/spotipy/client.py?line=293'>294</a>\u001b[0m \u001b[39mif\u001b[39;00m args:\n\u001b[1;32m    <a href='file:///home/jvera/.miniconda3/envs/speechRecog/lib/python3.9/site-packages/spotipy/client.py?line=294'>295</a>\u001b[0m     kwargs\u001b[39m.\u001b[39mupdate(args)\n\u001b[0;32m--> <a href='file:///home/jvera/.miniconda3/envs/speechRecog/lib/python3.9/site-packages/spotipy/client.py?line=296'>297</a>\u001b[0m \u001b[39mreturn\u001b[39;00m \u001b[39mself\u001b[39;49m\u001b[39m.\u001b[39;49m_internal_call(\u001b[39m\"\u001b[39;49m\u001b[39mGET\u001b[39;49m\u001b[39m\"\u001b[39;49m, url, payload, kwargs)\n",
      "File \u001b[0;32m~/.miniconda3/envs/speechRecog/lib/python3.9/site-packages/spotipy/client.py:221\u001b[0m, in \u001b[0;36mSpotify._internal_call\u001b[0;34m(self, method, url, payload, params)\u001b[0m\n\u001b[1;32m    <a href='file:///home/jvera/.miniconda3/envs/speechRecog/lib/python3.9/site-packages/spotipy/client.py?line=218'>219</a>\u001b[0m \u001b[39mif\u001b[39;00m \u001b[39mnot\u001b[39;00m url\u001b[39m.\u001b[39mstartswith(\u001b[39m\"\u001b[39m\u001b[39mhttp\u001b[39m\u001b[39m\"\u001b[39m):\n\u001b[1;32m    <a href='file:///home/jvera/.miniconda3/envs/speechRecog/lib/python3.9/site-packages/spotipy/client.py?line=219'>220</a>\u001b[0m     url \u001b[39m=\u001b[39m \u001b[39mself\u001b[39m\u001b[39m.\u001b[39mprefix \u001b[39m+\u001b[39m url\n\u001b[0;32m--> <a href='file:///home/jvera/.miniconda3/envs/speechRecog/lib/python3.9/site-packages/spotipy/client.py?line=220'>221</a>\u001b[0m headers \u001b[39m=\u001b[39m \u001b[39mself\u001b[39;49m\u001b[39m.\u001b[39;49m_auth_headers()\n\u001b[1;32m    <a href='file:///home/jvera/.miniconda3/envs/speechRecog/lib/python3.9/site-packages/spotipy/client.py?line=222'>223</a>\u001b[0m \u001b[39mif\u001b[39;00m \u001b[39m\"\u001b[39m\u001b[39mcontent_type\u001b[39m\u001b[39m\"\u001b[39m \u001b[39min\u001b[39;00m args[\u001b[39m\"\u001b[39m\u001b[39mparams\u001b[39m\u001b[39m\"\u001b[39m]:\n\u001b[1;32m    <a href='file:///home/jvera/.miniconda3/envs/speechRecog/lib/python3.9/site-packages/spotipy/client.py?line=223'>224</a>\u001b[0m     headers[\u001b[39m\"\u001b[39m\u001b[39mContent-Type\u001b[39m\u001b[39m\"\u001b[39m] \u001b[39m=\u001b[39m args[\u001b[39m\"\u001b[39m\u001b[39mparams\u001b[39m\u001b[39m\"\u001b[39m][\u001b[39m\"\u001b[39m\u001b[39mcontent_type\u001b[39m\u001b[39m\"\u001b[39m]\n",
      "File \u001b[0;32m~/.miniconda3/envs/speechRecog/lib/python3.9/site-packages/spotipy/client.py:212\u001b[0m, in \u001b[0;36mSpotify._auth_headers\u001b[0;34m(self)\u001b[0m\n\u001b[1;32m    <a href='file:///home/jvera/.miniconda3/envs/speechRecog/lib/python3.9/site-packages/spotipy/client.py?line=209'>210</a>\u001b[0m     \u001b[39mreturn\u001b[39;00m {}\n\u001b[1;32m    <a href='file:///home/jvera/.miniconda3/envs/speechRecog/lib/python3.9/site-packages/spotipy/client.py?line=210'>211</a>\u001b[0m \u001b[39mtry\u001b[39;00m:\n\u001b[0;32m--> <a href='file:///home/jvera/.miniconda3/envs/speechRecog/lib/python3.9/site-packages/spotipy/client.py?line=211'>212</a>\u001b[0m     token \u001b[39m=\u001b[39m \u001b[39mself\u001b[39;49m\u001b[39m.\u001b[39;49mauth_manager\u001b[39m.\u001b[39;49mget_access_token(as_dict\u001b[39m=\u001b[39;49m\u001b[39mFalse\u001b[39;49;00m)\n\u001b[1;32m    <a href='file:///home/jvera/.miniconda3/envs/speechRecog/lib/python3.9/site-packages/spotipy/client.py?line=212'>213</a>\u001b[0m \u001b[39mexcept\u001b[39;00m \u001b[39mTypeError\u001b[39;00m:\n\u001b[1;32m    <a href='file:///home/jvera/.miniconda3/envs/speechRecog/lib/python3.9/site-packages/spotipy/client.py?line=213'>214</a>\u001b[0m     token \u001b[39m=\u001b[39m \u001b[39mself\u001b[39m\u001b[39m.\u001b[39mauth_manager\u001b[39m.\u001b[39mget_access_token()\n",
      "File \u001b[0;32m~/.miniconda3/envs/speechRecog/lib/python3.9/site-packages/spotipy/oauth2.py:535\u001b[0m, in \u001b[0;36mSpotifyOAuth.get_access_token\u001b[0;34m(self, code, as_dict, check_cache)\u001b[0m\n\u001b[1;32m    <a href='file:///home/jvera/.miniconda3/envs/speechRecog/lib/python3.9/site-packages/spotipy/oauth2.py?line=527'>528</a>\u001b[0m             token_info \u001b[39m=\u001b[39m \u001b[39mself\u001b[39m\u001b[39m.\u001b[39mrefresh_access_token(\n\u001b[1;32m    <a href='file:///home/jvera/.miniconda3/envs/speechRecog/lib/python3.9/site-packages/spotipy/oauth2.py?line=528'>529</a>\u001b[0m                 token_info[\u001b[39m\"\u001b[39m\u001b[39mrefresh_token\u001b[39m\u001b[39m\"\u001b[39m]\n\u001b[1;32m    <a href='file:///home/jvera/.miniconda3/envs/speechRecog/lib/python3.9/site-packages/spotipy/oauth2.py?line=529'>530</a>\u001b[0m             )\n\u001b[1;32m    <a href='file:///home/jvera/.miniconda3/envs/speechRecog/lib/python3.9/site-packages/spotipy/oauth2.py?line=530'>531</a>\u001b[0m         \u001b[39mreturn\u001b[39;00m token_info \u001b[39mif\u001b[39;00m as_dict \u001b[39melse\u001b[39;00m token_info[\u001b[39m\"\u001b[39m\u001b[39maccess_token\u001b[39m\u001b[39m\"\u001b[39m]\n\u001b[1;32m    <a href='file:///home/jvera/.miniconda3/envs/speechRecog/lib/python3.9/site-packages/spotipy/oauth2.py?line=532'>533</a>\u001b[0m payload \u001b[39m=\u001b[39m {\n\u001b[1;32m    <a href='file:///home/jvera/.miniconda3/envs/speechRecog/lib/python3.9/site-packages/spotipy/oauth2.py?line=533'>534</a>\u001b[0m     \u001b[39m\"\u001b[39m\u001b[39mredirect_uri\u001b[39m\u001b[39m\"\u001b[39m: \u001b[39mself\u001b[39m\u001b[39m.\u001b[39mredirect_uri,\n\u001b[0;32m--> <a href='file:///home/jvera/.miniconda3/envs/speechRecog/lib/python3.9/site-packages/spotipy/oauth2.py?line=534'>535</a>\u001b[0m     \u001b[39m\"\u001b[39m\u001b[39mcode\u001b[39m\u001b[39m\"\u001b[39m: code \u001b[39mor\u001b[39;00m \u001b[39mself\u001b[39;49m\u001b[39m.\u001b[39;49mget_auth_response(),\n\u001b[1;32m    <a href='file:///home/jvera/.miniconda3/envs/speechRecog/lib/python3.9/site-packages/spotipy/oauth2.py?line=535'>536</a>\u001b[0m     \u001b[39m\"\u001b[39m\u001b[39mgrant_type\u001b[39m\u001b[39m\"\u001b[39m: \u001b[39m\"\u001b[39m\u001b[39mauthorization_code\u001b[39m\u001b[39m\"\u001b[39m,\n\u001b[1;32m    <a href='file:///home/jvera/.miniconda3/envs/speechRecog/lib/python3.9/site-packages/spotipy/oauth2.py?line=536'>537</a>\u001b[0m }\n\u001b[1;32m    <a href='file:///home/jvera/.miniconda3/envs/speechRecog/lib/python3.9/site-packages/spotipy/oauth2.py?line=537'>538</a>\u001b[0m \u001b[39mif\u001b[39;00m \u001b[39mself\u001b[39m\u001b[39m.\u001b[39mscope:\n\u001b[1;32m    <a href='file:///home/jvera/.miniconda3/envs/speechRecog/lib/python3.9/site-packages/spotipy/oauth2.py?line=538'>539</a>\u001b[0m     payload[\u001b[39m\"\u001b[39m\u001b[39mscope\u001b[39m\u001b[39m\"\u001b[39m] \u001b[39m=\u001b[39m \u001b[39mself\u001b[39m\u001b[39m.\u001b[39mscope\n",
      "File \u001b[0;32m~/.miniconda3/envs/speechRecog/lib/python3.9/site-packages/spotipy/oauth2.py:490\u001b[0m, in \u001b[0;36mSpotifyOAuth.get_auth_response\u001b[0;34m(self, open_browser)\u001b[0m\n\u001b[1;32m    <a href='file:///home/jvera/.miniconda3/envs/speechRecog/lib/python3.9/site-packages/spotipy/oauth2.py?line=482'>483</a>\u001b[0m \u001b[39mif\u001b[39;00m (\n\u001b[1;32m    <a href='file:///home/jvera/.miniconda3/envs/speechRecog/lib/python3.9/site-packages/spotipy/oauth2.py?line=483'>484</a>\u001b[0m         open_browser\n\u001b[1;32m    <a href='file:///home/jvera/.miniconda3/envs/speechRecog/lib/python3.9/site-packages/spotipy/oauth2.py?line=484'>485</a>\u001b[0m         \u001b[39mand\u001b[39;00m redirect_host \u001b[39min\u001b[39;00m (\u001b[39m\"\u001b[39m\u001b[39m127.0.0.1\u001b[39m\u001b[39m\"\u001b[39m, \u001b[39m\"\u001b[39m\u001b[39mlocalhost\u001b[39m\u001b[39m\"\u001b[39m)\n\u001b[1;32m    <a href='file:///home/jvera/.miniconda3/envs/speechRecog/lib/python3.9/site-packages/spotipy/oauth2.py?line=485'>486</a>\u001b[0m         \u001b[39mand\u001b[39;00m redirect_info\u001b[39m.\u001b[39mscheme \u001b[39m==\u001b[39m \u001b[39m\"\u001b[39m\u001b[39mhttp\u001b[39m\u001b[39m\"\u001b[39m\n\u001b[1;32m    <a href='file:///home/jvera/.miniconda3/envs/speechRecog/lib/python3.9/site-packages/spotipy/oauth2.py?line=486'>487</a>\u001b[0m ):\n\u001b[1;32m    <a href='file:///home/jvera/.miniconda3/envs/speechRecog/lib/python3.9/site-packages/spotipy/oauth2.py?line=487'>488</a>\u001b[0m     \u001b[39m# Only start a local http server if a port is specified\u001b[39;00m\n\u001b[1;32m    <a href='file:///home/jvera/.miniconda3/envs/speechRecog/lib/python3.9/site-packages/spotipy/oauth2.py?line=488'>489</a>\u001b[0m     \u001b[39mif\u001b[39;00m redirect_port:\n\u001b[0;32m--> <a href='file:///home/jvera/.miniconda3/envs/speechRecog/lib/python3.9/site-packages/spotipy/oauth2.py?line=489'>490</a>\u001b[0m         \u001b[39mreturn\u001b[39;00m \u001b[39mself\u001b[39;49m\u001b[39m.\u001b[39;49m_get_auth_response_local_server(redirect_port)\n\u001b[1;32m    <a href='file:///home/jvera/.miniconda3/envs/speechRecog/lib/python3.9/site-packages/spotipy/oauth2.py?line=490'>491</a>\u001b[0m     \u001b[39melse\u001b[39;00m:\n\u001b[1;32m    <a href='file:///home/jvera/.miniconda3/envs/speechRecog/lib/python3.9/site-packages/spotipy/oauth2.py?line=491'>492</a>\u001b[0m         logger\u001b[39m.\u001b[39mwarning(\u001b[39m'\u001b[39m\u001b[39mUsing `\u001b[39m\u001b[39m%s\u001b[39;00m\u001b[39m` as redirect URI without a port. \u001b[39m\u001b[39m'\u001b[39m\n\u001b[1;32m    <a href='file:///home/jvera/.miniconda3/envs/speechRecog/lib/python3.9/site-packages/spotipy/oauth2.py?line=492'>493</a>\u001b[0m                        \u001b[39m'\u001b[39m\u001b[39mSpecify a port (e.g. `\u001b[39m\u001b[39m%s\u001b[39;00m\u001b[39m:8080`) to allow \u001b[39m\u001b[39m'\u001b[39m\n\u001b[1;32m    <a href='file:///home/jvera/.miniconda3/envs/speechRecog/lib/python3.9/site-packages/spotipy/oauth2.py?line=493'>494</a>\u001b[0m                        \u001b[39m'\u001b[39m\u001b[39mautomatic retrieval of authentication code \u001b[39m\u001b[39m'\u001b[39m\n\u001b[1;32m    <a href='file:///home/jvera/.miniconda3/envs/speechRecog/lib/python3.9/site-packages/spotipy/oauth2.py?line=494'>495</a>\u001b[0m                        \u001b[39m'\u001b[39m\u001b[39minstead of having to copy and paste \u001b[39m\u001b[39m'\u001b[39m\n\u001b[1;32m    <a href='file:///home/jvera/.miniconda3/envs/speechRecog/lib/python3.9/site-packages/spotipy/oauth2.py?line=495'>496</a>\u001b[0m                        \u001b[39m'\u001b[39m\u001b[39mthe URL your browser is redirected to.\u001b[39m\u001b[39m'\u001b[39m,\n\u001b[1;32m    <a href='file:///home/jvera/.miniconda3/envs/speechRecog/lib/python3.9/site-packages/spotipy/oauth2.py?line=496'>497</a>\u001b[0m                        redirect_host, redirect_host)\n",
      "File \u001b[0;32m~/.miniconda3/envs/speechRecog/lib/python3.9/site-packages/spotipy/oauth2.py:457\u001b[0m, in \u001b[0;36mSpotifyOAuth._get_auth_response_local_server\u001b[0;34m(self, redirect_port)\u001b[0m\n\u001b[1;32m    <a href='file:///home/jvera/.miniconda3/envs/speechRecog/lib/python3.9/site-packages/spotipy/oauth2.py?line=455'>456</a>\u001b[0m \u001b[39mdef\u001b[39;00m \u001b[39m_get_auth_response_local_server\u001b[39m(\u001b[39mself\u001b[39m, redirect_port):\n\u001b[0;32m--> <a href='file:///home/jvera/.miniconda3/envs/speechRecog/lib/python3.9/site-packages/spotipy/oauth2.py?line=456'>457</a>\u001b[0m     server \u001b[39m=\u001b[39m start_local_http_server(redirect_port)\n\u001b[1;32m    <a href='file:///home/jvera/.miniconda3/envs/speechRecog/lib/python3.9/site-packages/spotipy/oauth2.py?line=457'>458</a>\u001b[0m     \u001b[39mself\u001b[39m\u001b[39m.\u001b[39m_open_auth_url()\n\u001b[1;32m    <a href='file:///home/jvera/.miniconda3/envs/speechRecog/lib/python3.9/site-packages/spotipy/oauth2.py?line=458'>459</a>\u001b[0m     server\u001b[39m.\u001b[39mhandle_request()\n",
      "File \u001b[0;32m~/.miniconda3/envs/speechRecog/lib/python3.9/site-packages/spotipy/oauth2.py:1303\u001b[0m, in \u001b[0;36mstart_local_http_server\u001b[0;34m(port, handler)\u001b[0m\n\u001b[1;32m   <a href='file:///home/jvera/.miniconda3/envs/speechRecog/lib/python3.9/site-packages/spotipy/oauth2.py?line=1301'>1302</a>\u001b[0m \u001b[39mdef\u001b[39;00m \u001b[39mstart_local_http_server\u001b[39m(port, handler\u001b[39m=\u001b[39mRequestHandler):\n\u001b[0;32m-> <a href='file:///home/jvera/.miniconda3/envs/speechRecog/lib/python3.9/site-packages/spotipy/oauth2.py?line=1302'>1303</a>\u001b[0m     server \u001b[39m=\u001b[39m HTTPServer((\u001b[39m\"\u001b[39;49m\u001b[39m127.0.0.1\u001b[39;49m\u001b[39m\"\u001b[39;49m, port), handler)\n\u001b[1;32m   <a href='file:///home/jvera/.miniconda3/envs/speechRecog/lib/python3.9/site-packages/spotipy/oauth2.py?line=1303'>1304</a>\u001b[0m     server\u001b[39m.\u001b[39mallow_reuse_address \u001b[39m=\u001b[39m \u001b[39mTrue\u001b[39;00m\n\u001b[1;32m   <a href='file:///home/jvera/.miniconda3/envs/speechRecog/lib/python3.9/site-packages/spotipy/oauth2.py?line=1304'>1305</a>\u001b[0m     server\u001b[39m.\u001b[39mauth_code \u001b[39m=\u001b[39m \u001b[39mNone\u001b[39;00m\n",
      "File \u001b[0;32m~/.miniconda3/envs/speechRecog/lib/python3.9/socketserver.py:452\u001b[0m, in \u001b[0;36mTCPServer.__init__\u001b[0;34m(self, server_address, RequestHandlerClass, bind_and_activate)\u001b[0m\n\u001b[1;32m    <a href='file:///home/jvera/.miniconda3/envs/speechRecog/lib/python3.9/socketserver.py?line=449'>450</a>\u001b[0m \u001b[39mif\u001b[39;00m bind_and_activate:\n\u001b[1;32m    <a href='file:///home/jvera/.miniconda3/envs/speechRecog/lib/python3.9/socketserver.py?line=450'>451</a>\u001b[0m     \u001b[39mtry\u001b[39;00m:\n\u001b[0;32m--> <a href='file:///home/jvera/.miniconda3/envs/speechRecog/lib/python3.9/socketserver.py?line=451'>452</a>\u001b[0m         \u001b[39mself\u001b[39;49m\u001b[39m.\u001b[39;49mserver_bind()\n\u001b[1;32m    <a href='file:///home/jvera/.miniconda3/envs/speechRecog/lib/python3.9/socketserver.py?line=452'>453</a>\u001b[0m         \u001b[39mself\u001b[39m\u001b[39m.\u001b[39mserver_activate()\n\u001b[1;32m    <a href='file:///home/jvera/.miniconda3/envs/speechRecog/lib/python3.9/socketserver.py?line=453'>454</a>\u001b[0m     \u001b[39mexcept\u001b[39;00m:\n",
      "File \u001b[0;32m~/.miniconda3/envs/speechRecog/lib/python3.9/http/server.py:136\u001b[0m, in \u001b[0;36mHTTPServer.server_bind\u001b[0;34m(self)\u001b[0m\n\u001b[1;32m    <a href='file:///home/jvera/.miniconda3/envs/speechRecog/lib/python3.9/http/server.py?line=133'>134</a>\u001b[0m \u001b[39mdef\u001b[39;00m \u001b[39mserver_bind\u001b[39m(\u001b[39mself\u001b[39m):\n\u001b[1;32m    <a href='file:///home/jvera/.miniconda3/envs/speechRecog/lib/python3.9/http/server.py?line=134'>135</a>\u001b[0m     \u001b[39m\"\"\"Override server_bind to store the server name.\"\"\"\u001b[39;00m\n\u001b[0;32m--> <a href='file:///home/jvera/.miniconda3/envs/speechRecog/lib/python3.9/http/server.py?line=135'>136</a>\u001b[0m     socketserver\u001b[39m.\u001b[39;49mTCPServer\u001b[39m.\u001b[39;49mserver_bind(\u001b[39mself\u001b[39;49m)\n\u001b[1;32m    <a href='file:///home/jvera/.miniconda3/envs/speechRecog/lib/python3.9/http/server.py?line=136'>137</a>\u001b[0m     host, port \u001b[39m=\u001b[39m \u001b[39mself\u001b[39m\u001b[39m.\u001b[39mserver_address[:\u001b[39m2\u001b[39m]\n\u001b[1;32m    <a href='file:///home/jvera/.miniconda3/envs/speechRecog/lib/python3.9/http/server.py?line=137'>138</a>\u001b[0m     \u001b[39mself\u001b[39m\u001b[39m.\u001b[39mserver_name \u001b[39m=\u001b[39m socket\u001b[39m.\u001b[39mgetfqdn(host)\n",
      "File \u001b[0;32m~/.miniconda3/envs/speechRecog/lib/python3.9/socketserver.py:466\u001b[0m, in \u001b[0;36mTCPServer.server_bind\u001b[0;34m(self)\u001b[0m\n\u001b[1;32m    <a href='file:///home/jvera/.miniconda3/envs/speechRecog/lib/python3.9/socketserver.py?line=463'>464</a>\u001b[0m \u001b[39mif\u001b[39;00m \u001b[39mself\u001b[39m\u001b[39m.\u001b[39mallow_reuse_address:\n\u001b[1;32m    <a href='file:///home/jvera/.miniconda3/envs/speechRecog/lib/python3.9/socketserver.py?line=464'>465</a>\u001b[0m     \u001b[39mself\u001b[39m\u001b[39m.\u001b[39msocket\u001b[39m.\u001b[39msetsockopt(socket\u001b[39m.\u001b[39mSOL_SOCKET, socket\u001b[39m.\u001b[39mSO_REUSEADDR, \u001b[39m1\u001b[39m)\n\u001b[0;32m--> <a href='file:///home/jvera/.miniconda3/envs/speechRecog/lib/python3.9/socketserver.py?line=465'>466</a>\u001b[0m \u001b[39mself\u001b[39;49m\u001b[39m.\u001b[39;49msocket\u001b[39m.\u001b[39;49mbind(\u001b[39mself\u001b[39;49m\u001b[39m.\u001b[39;49mserver_address)\n\u001b[1;32m    <a href='file:///home/jvera/.miniconda3/envs/speechRecog/lib/python3.9/socketserver.py?line=466'>467</a>\u001b[0m \u001b[39mself\u001b[39m\u001b[39m.\u001b[39mserver_address \u001b[39m=\u001b[39m \u001b[39mself\u001b[39m\u001b[39m.\u001b[39msocket\u001b[39m.\u001b[39mgetsockname()\n",
      "\u001b[0;31mOSError\u001b[0m: [Errno 98] Address already in use"
     ]
    }
   ],
   "source": [
    "scope = \"user-read-playback-state\"\n",
    "\n",
    "sp_read = spotipy.Spotify(auth_manager=SpotifyOAuth(SPOTIPY_CLIENT_ID,SPOTIPY_CLIENT_SECRET,'http://localhost:8888/callback',scope=scope))\n",
    "\n",
    "results = sp_read.current_playback()"
   ]
  },
  {
   "cell_type": "code",
   "execution_count": null,
   "metadata": {},
   "outputs": [],
   "source": []
  }
 ],
 "metadata": {
  "interpreter": {
   "hash": "0c4fe4ebd9c04223ca92641092f625901900c1b94ce34385be96c445ec789a4f"
  },
  "kernelspec": {
   "display_name": "Python 3.10.4 ('speechRecog')",
   "language": "python",
   "name": "python3"
  },
  "language_info": {
   "codemirror_mode": {
    "name": "ipython",
    "version": 3
   },
   "file_extension": ".py",
   "mimetype": "text/x-python",
   "name": "python",
   "nbconvert_exporter": "python",
   "pygments_lexer": "ipython3",
   "version": "3.9.12"
  },
  "orig_nbformat": 4
 },
 "nbformat": 4,
 "nbformat_minor": 2
}
